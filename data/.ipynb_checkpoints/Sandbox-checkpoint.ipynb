{
 "metadata": {
  "name": "",
  "signature": "sha256:626e898f6a314a671781beb2c1f2020e3cf281e682f2929eff901b07674b6f5a"
 },
 "nbformat": 3,
 "nbformat_minor": 0,
 "worksheets": []
}