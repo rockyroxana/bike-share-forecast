{
 "metadata": {
  "name": "",
  "signature": "sha256:e2d9e7ebab7f10a611706c8d2b36ecebf57e8b8852bd1c75e432d0681d70f775"
 },
 "nbformat": 3,
 "nbformat_minor": 0,
 "worksheets": [
  {
   "cells": [
    {
     "cell_type": "code",
     "collapsed": false,
     "input": [
      "%matplotlib inline\n",
      "\n",
      "from __future__ import division\n",
      "\n",
      "import pandas as pd\n",
      "import pandas.rpy.common as com\n",
      "\n",
      "import statsmodels.api as sm\n",
      "import statsmodels.formula.api as smf\n",
      "from statsmodels.stats.anova import anova_lm\n",
      "\n",
      "import numpy as np\n",
      "from numpy.random import randn\n",
      "\n",
      "from seaborn import plt\n",
      "import seaborn as sns\n",
      "\n",
      "from ipy_table import apply_theme, make_table\n",
      "\n",
      "import matplotlib as mpl\n",
      "\n",
      "from scipy import stats"
     ],
     "language": "python",
     "metadata": {},
     "outputs": [],
     "prompt_number": 3
    },
    {
     "cell_type": "code",
     "collapsed": false,
     "input": [],
     "language": "python",
     "metadata": {},
     "outputs": []
    }
   ],
   "metadata": {}
  }
 ]
}